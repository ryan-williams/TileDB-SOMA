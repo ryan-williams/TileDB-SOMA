{
 "cells": [
  {
   "cell_type": "code",
   "execution_count": 1,
   "id": "27ef4e23-2197-4889-93ed-42e551ec4d87",
   "metadata": {
    "editable": true,
    "execution": {
     "iopub.execute_input": "2024-11-14T23:59:24.878869Z",
     "iopub.status.busy": "2024-11-14T23:59:24.878406Z",
     "iopub.status.idle": "2024-11-14T23:59:24.881748Z",
     "shell.execute_reply": "2024-11-14T23:59:24.881244Z"
    },
    "papermill": {
     "duration": 0.006737,
     "end_time": "2024-11-14T23:59:24.882569",
     "exception": false,
     "start_time": "2024-11-14T23:59:24.875832",
     "status": "completed"
    },
    "slideshow": {
     "slide_type": ""
    },
    "tags": [
     "parameters"
    ]
   },
   "outputs": [],
   "source": [
    "meas = \"RNA\"\n",
    "layer = \"raw\"\n",
    "census = \"2024-07-01\"\n",
    "tissue_general = \"tongue\"\n",
    "var_filter = None\n",
    "dask_chunk_size = 0  # Non-Dask mode, by default"
   ]
  },
  {
   "cell_type": "code",
   "execution_count": 2,
   "id": "f7ac0444",
   "metadata": {
    "execution": {
     "iopub.execute_input": "2024-11-14T23:59:24.886908Z",
     "iopub.status.busy": "2024-11-14T23:59:24.886504Z",
     "iopub.status.idle": "2024-11-14T23:59:24.889007Z",
     "shell.execute_reply": "2024-11-14T23:59:24.888554Z"
    },
    "papermill": {
     "duration": 0.005327,
     "end_time": "2024-11-14T23:59:24.889796",
     "exception": false,
     "start_time": "2024-11-14T23:59:24.884469",
     "status": "completed"
    },
    "tags": [
     "injected-parameters"
    ]
   },
   "outputs": [],
   "source": [
    "# Parameters\n",
    "tissue_general = \"skin of body\"\n"
   ]
  },
  {
   "cell_type": "code",
   "execution_count": 3,
   "id": "c798eb53-1740-44d5-8035-ee146e09424e",
   "metadata": {
    "editable": true,
    "execution": {
     "iopub.execute_input": "2024-11-14T23:59:24.893814Z",
     "iopub.status.busy": "2024-11-14T23:59:24.893350Z",
     "iopub.status.idle": "2024-11-14T23:59:30.081146Z",
     "shell.execute_reply": "2024-11-14T23:59:30.080570Z"
    },
    "papermill": {
     "duration": 5.190766,
     "end_time": "2024-11-14T23:59:30.082091",
     "exception": false,
     "start_time": "2024-11-14T23:59:24.891325",
     "status": "completed"
    },
    "slideshow": {
     "slide_type": ""
    },
    "tags": []
   },
   "outputs": [
    {
     "data": {
      "text/plain": [
       "<Experiment 's3://cellxgene-census-public-us-west-2/cell-census/2024-07-01/soma/census_data/homo_sapiens' (open for 'r') (2 items)\n",
       "    'ms': 's3://cellxgene-census-public-us-west-2/cell-census/2024-07-01/soma/census_data/homo_sapiens/ms' (unopened)\n",
       "    'obs': 's3://cellxgene-census-public-us-west-2/cell-census/2024-07-01/soma/census_data/homo_sapiens/obs' (unopened)>"
      ]
     },
     "execution_count": 3,
     "metadata": {},
     "output_type": "execute_result"
    }
   ],
   "source": [
    "from typing import Literal\n",
    "import anndata as ad\n",
    "import scanpy as sc\n",
    "from somacore import AxisQuery\n",
    "from tiledbsoma import Experiment, SOMATileDBContext\n",
    "\n",
    "DEFAULT_CONFIG = {\n",
    "    \"vfs.s3.no_sign_request\": \"true\",\n",
    "    \"vfs.s3.region\": \"us-west-2\"\n",
    "}\n",
    "CENSUS_S3 = \"s3://cellxgene-census-public-us-west-2/cell-census\"\n",
    "\n",
    "species = \"homo_sapiens\"\n",
    "soma_uri = f\"{CENSUS_S3}/{census}/soma\"\n",
    "exp_uri = f\"{soma_uri}/census_data/{species}\"\n",
    "\n",
    "exp = Experiment.open(\n",
    "    exp_uri,\n",
    "    context=SOMATileDBContext(tiledb_config=DEFAULT_CONFIG)\n",
    ")\n",
    "exp"
   ]
  },
  {
   "cell_type": "code",
   "execution_count": 4,
   "id": "de46251e-8831-4d15-a3ae-24eac79ac418",
   "metadata": {
    "editable": true,
    "execution": {
     "iopub.execute_input": "2024-11-14T23:59:30.087317Z",
     "iopub.status.busy": "2024-11-14T23:59:30.086552Z",
     "iopub.status.idle": "2024-11-14T23:59:30.188711Z",
     "shell.execute_reply": "2024-11-14T23:59:30.188138Z"
    },
    "papermill": {
     "duration": 0.105499,
     "end_time": "2024-11-14T23:59:30.189645",
     "exception": false,
     "start_time": "2024-11-14T23:59:30.084146",
     "status": "completed"
    },
    "slideshow": {
     "slide_type": ""
    },
    "tags": []
   },
   "outputs": [
    {
     "name": "stdout",
     "output_type": "stream",
     "text": [
      "CPU times: user 3.62 ms, sys: 6.02 ms, total: 9.64 ms\n",
      "Wall time: 97.6 ms\n"
     ]
    }
   ],
   "source": [
    "%%time\n",
    "obs_filter = f'tissue_general == \"{tissue_general}\"' if tissue_general else None\n",
    "query = exp.axis_query(\n",
    "    measurement_name=meas,\n",
    "    obs_query=AxisQuery(value_filter=obs_filter) if obs_filter else None,\n",
    "    var_query=AxisQuery(value_filter=var_filter) if var_filter else None,\n",
    ")"
   ]
  },
  {
   "cell_type": "code",
   "execution_count": 5,
   "id": "b3c06e17-1b31-4949-ac08-342345ec4068",
   "metadata": {
    "editable": true,
    "execution": {
     "iopub.execute_input": "2024-11-14T23:59:30.194350Z",
     "iopub.status.busy": "2024-11-14T23:59:30.193839Z",
     "iopub.status.idle": "2024-11-14T23:59:30.800126Z",
     "shell.execute_reply": "2024-11-14T23:59:30.799607Z"
    },
    "papermill": {
     "duration": 0.609418,
     "end_time": "2024-11-14T23:59:30.800996",
     "exception": false,
     "start_time": "2024-11-14T23:59:30.191578",
     "status": "completed"
    },
    "slideshow": {
     "slide_type": ""
    },
    "tags": []
   },
   "outputs": [
    {
     "name": "stdout",
     "output_type": "stream",
     "text": [
      "CPU times: user 585 ms, sys: 411 ms, total: 996 ms\n",
      "Wall time: 601 ms\n"
     ]
    },
    {
     "data": {
      "text/plain": [
       "1045024"
      ]
     },
     "execution_count": 5,
     "metadata": {},
     "output_type": "execute_result"
    }
   ],
   "source": [
    "%%time\n",
    "query.n_obs"
   ]
  },
  {
   "cell_type": "code",
   "execution_count": 6,
   "id": "9dca37c5-4931-43ec-a1ff-9a72fa3283d4",
   "metadata": {
    "execution": {
     "iopub.execute_input": "2024-11-14T23:59:30.806249Z",
     "iopub.status.busy": "2024-11-14T23:59:30.805810Z",
     "iopub.status.idle": "2024-11-14T23:59:31.081335Z",
     "shell.execute_reply": "2024-11-14T23:59:31.080759Z"
    },
    "papermill": {
     "duration": 0.279135,
     "end_time": "2024-11-14T23:59:31.082349",
     "exception": false,
     "start_time": "2024-11-14T23:59:30.803214",
     "status": "completed"
    },
    "tags": []
   },
   "outputs": [],
   "source": [
    "from dask.distributed import Client, LocalCluster\n",
    "if dask_chunk_size:\n",
    "    cluster = LocalCluster()\n",
    "    client = Client(cluster)\n",
    "else:\n",
    "    dask_chunk_size = None\n",
    "    client = None\n",
    "client"
   ]
  },
  {
   "cell_type": "markdown",
   "id": "97fa4f9f-bfc2-4382-b985-feccbf625184",
   "metadata": {
    "editable": true,
    "papermill": {
     "duration": 0.002608,
     "end_time": "2024-11-14T23:59:31.087146",
     "exception": false,
     "start_time": "2024-11-14T23:59:31.084538",
     "status": "completed"
    },
    "slideshow": {
     "slide_type": ""
    },
    "tags": []
   },
   "source": [
    "## HVG"
   ]
  },
  {
   "cell_type": "code",
   "execution_count": 7,
   "id": "35fb9a55-c4d5-4ba1-bfbc-30eb579263bd",
   "metadata": {
    "editable": true,
    "execution": {
     "iopub.execute_input": "2024-11-14T23:59:31.091901Z",
     "iopub.status.busy": "2024-11-14T23:59:31.091427Z",
     "iopub.status.idle": "2024-11-15T00:00:45.178112Z",
     "shell.execute_reply": "2024-11-15T00:00:45.177574Z"
    },
    "papermill": {
     "duration": 74.091268,
     "end_time": "2024-11-15T00:00:45.180280",
     "exception": false,
     "start_time": "2024-11-14T23:59:31.089012",
     "status": "completed"
    },
    "slideshow": {
     "slide_type": ""
    },
    "tags": []
   },
   "outputs": [
    {
     "name": "stdout",
     "output_type": "stream",
     "text": [
      "CPU times: user 2min 32s, sys: 1min 44s, total: 4min 16s\n",
      "Wall time: 1min 14s\n"
     ]
    },
    {
     "data": {
      "text/plain": [
       "AnnData object with n_obs × n_vars = 1045024 × 60530\n",
       "    obs: 'soma_joinid', 'dataset_id', 'assay', 'assay_ontology_term_id', 'cell_type', 'cell_type_ontology_term_id', 'development_stage', 'development_stage_ontology_term_id', 'disease', 'disease_ontology_term_id', 'donor_id', 'is_primary_data', 'observation_joinid', 'self_reported_ethnicity', 'self_reported_ethnicity_ontology_term_id', 'sex', 'sex_ontology_term_id', 'suspension_type', 'tissue', 'tissue_ontology_term_id', 'tissue_type', 'tissue_general', 'tissue_general_ontology_term_id', 'raw_sum', 'nnz', 'raw_mean_nnz', 'raw_variance_nnz', 'n_measured_vars'\n",
       "    var: 'soma_joinid', 'feature_id', 'feature_name', 'feature_length', 'nnz', 'n_measured_obs'"
      ]
     },
     "execution_count": 7,
     "metadata": {},
     "output_type": "execute_result"
    }
   ],
   "source": [
    "%%time\n",
    "add = query.to_anndata(layer, dask_chunk_size=dask_chunk_size)\n",
    "add"
   ]
  },
  {
   "cell_type": "code",
   "execution_count": 8,
   "id": "aeb2169a-82e8-45ff-82d6-5d3805458b0d",
   "metadata": {
    "editable": true,
    "execution": {
     "iopub.execute_input": "2024-11-15T00:00:45.185516Z",
     "iopub.status.busy": "2024-11-15T00:00:45.185108Z",
     "iopub.status.idle": "2024-11-15T00:00:47.674860Z",
     "shell.execute_reply": "2024-11-15T00:00:47.674289Z"
    },
    "papermill": {
     "duration": 2.493201,
     "end_time": "2024-11-15T00:00:47.675661",
     "exception": false,
     "start_time": "2024-11-15T00:00:45.182460",
     "status": "completed"
    },
    "slideshow": {
     "slide_type": ""
    },
    "tags": []
   },
   "outputs": [
    {
     "name": "stdout",
     "output_type": "stream",
     "text": [
      "CPU times: user 1.22 s, sys: 1.28 s, total: 2.5 s\n",
      "Wall time: 2.49 s\n"
     ]
    }
   ],
   "source": [
    "%%time\n",
    "sc.pp.normalize_total(add)"
   ]
  },
  {
   "cell_type": "code",
   "execution_count": 9,
   "id": "2c875f3b-71b4-4393-b1eb-9ea1de2538bb",
   "metadata": {
    "execution": {
     "iopub.execute_input": "2024-11-15T00:00:47.681205Z",
     "iopub.status.busy": "2024-11-15T00:00:47.680968Z",
     "iopub.status.idle": "2024-11-15T00:01:07.589644Z",
     "shell.execute_reply": "2024-11-15T00:01:07.589021Z"
    },
    "papermill": {
     "duration": 19.912421,
     "end_time": "2024-11-15T00:01:07.590624",
     "exception": false,
     "start_time": "2024-11-15T00:00:47.678203",
     "status": "completed"
    },
    "tags": []
   },
   "outputs": [
    {
     "name": "stdout",
     "output_type": "stream",
     "text": [
      "CPU times: user 19.9 s, sys: 0 ns, total: 19.9 s\n",
      "Wall time: 19.9 s\n"
     ]
    }
   ],
   "source": [
    "%%time\n",
    "sc.pp.log1p(add)"
   ]
  },
  {
   "cell_type": "code",
   "execution_count": 10,
   "id": "c050465e-05ac-4599-a17a-d77825982f77",
   "metadata": {
    "execution": {
     "iopub.execute_input": "2024-11-15T00:01:07.596906Z",
     "iopub.status.busy": "2024-11-15T00:01:07.596319Z"
    },
    "papermill": {
     "duration": 22.099067,
     "end_time": "2024-11-15T00:01:29.692439",
     "exception": false,
     "start_time": "2024-11-15T00:01:07.593372",
     "status": "completed"
    },
    "tags": []
   },
   "outputs": [],
   "source": [
    "%%time\n",
    "hvg = sc.pp.highly_variable_genes(add, inplace=False, subset=True)\n",
    "hvg"
   ]
  },
  {
   "cell_type": "markdown",
   "id": "658f9db8-90eb-4327-8f10-6ae79c7f8f15",
   "metadata": {
    "editable": true,
    "papermill": {
     "duration": null,
     "end_time": null,
     "exception": null,
     "start_time": null,
     "status": "completed"
    },
    "slideshow": {
     "slide_type": ""
    },
    "tags": []
   },
   "source": [
    "---\n",
    "Census `tissue_general` counts, for reference:\n",
    "```python\n",
    "exp_obs = exp.obs.read().concat().to_pandas()\n",
    "exp_obs.tissue_general.value_counts()\n",
    "```\n",
    "```\n",
    "tissue_general\n",
    "brain                       26281059\n",
    "blood                       10835244\n",
    "lung                         6231233\n",
    "breast                       5555979\n",
    "eye                          4190842\n",
    "heart                        3629952\n",
    "kidney                       2083054\n",
    "liver                        1815408\n",
    "small intestine              1237182\n",
    "skin of body                 1045024\n",
    "endocrine gland               979667\n",
    "respiratory system            944355\n",
    "bone marrow                   813373\n",
    "spleen                        751041\n",
    "lymph node                    717899\n",
    "colon                         714413\n",
    "placenta                      638786\n",
    "reproductive system           570488\n",
    "adrenal gland                 560114\n",
    "nose                          470445\n",
    "adipose tissue                468603\n",
    "stomach                       446348\n",
    "prostate gland                348664\n",
    "fallopian tube                250178\n",
    "pancreas                      250161\n",
    "esophagus                     215951\n",
    "digestive system              211912\n",
    "musculature                   189452\n",
    "large intestine               180996\n",
    "pleural fluid                 179134\n",
    "yolk sac                      169725\n",
    "embryo                        165937\n",
    "uterus                        148198\n",
    "mucosa                        131978\n",
    "spinal cord                   117463\n",
    "exocrine gland                115722\n",
    "intestine                     104490\n",
    "immune system                  89046\n",
    "bladder organ                  82797\n",
    "vasculature                    63667\n",
    "ovary                          53751\n",
    "lamina propria                 45230\n",
    "tongue                         45060\n",
    "central nervous system         31780\n",
    "esophagogastric junction       29105\n",
    "axilla                         19792\n",
    "pleura                         19695\n",
    "skeletal system                14680\n",
    "saliva                         14502\n",
    "omentum                        14003\n",
    "testis                         13211\n",
    "tendon of semitendinosus       10533\n",
    "gallbladder                     9769\n",
    "scalp                           3029\n",
    "ureter                          2390\n",
    "Name: count, dtype: int64\n",
    "```"
   ]
  }
 ],
 "metadata": {
  "kernelspec": {
   "display_name": "Python 3 (ipykernel)",
   "language": "python",
   "name": "python3"
  },
  "language_info": {
   "codemirror_mode": {
    "name": "ipython",
    "version": 3
   },
   "file_extension": ".py",
   "mimetype": "text/x-python",
   "name": "python",
   "nbconvert_exporter": "python",
   "pygments_lexer": "ipython3",
   "version": "3.12.6"
  },
  "papermill": {
   "default_parameters": {},
   "duration": 126.767954,
   "end_time": "2024-11-15T00:01:29.717507",
   "environment_variables": {},
   "exception": null,
   "input_path": "hvg.ipynb",
   "output_path": "hvg-skin.ipynb",
   "parameters": {
    "tissue_general": "skin of body"
   },
   "start_time": "2024-11-14T23:59:22.949553",
   "version": "2.6.0"
  }
 },
 "nbformat": 4,
 "nbformat_minor": 5
}