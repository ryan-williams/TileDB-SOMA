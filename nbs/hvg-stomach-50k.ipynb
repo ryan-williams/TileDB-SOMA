{
 "cells": [
  {
   "cell_type": "code",
   "execution_count": 1,
   "id": "27ef4e23-2197-4889-93ed-42e551ec4d87",
   "metadata": {
    "editable": true,
    "execution": {
     "iopub.execute_input": "2024-11-14T18:09:39.843950Z",
     "iopub.status.busy": "2024-11-14T18:09:39.843551Z",
     "iopub.status.idle": "2024-11-14T18:09:39.847052Z",
     "shell.execute_reply": "2024-11-14T18:09:39.846530Z"
    },
    "papermill": {
     "duration": 0.007347,
     "end_time": "2024-11-14T18:09:39.847957",
     "exception": false,
     "start_time": "2024-11-14T18:09:39.840610",
     "status": "completed"
    },
    "slideshow": {
     "slide_type": ""
    },
    "tags": [
     "parameters"
    ]
   },
   "outputs": [],
   "source": [
    "meas = \"RNA\"\n",
    "layer = \"raw\"\n",
    "census = \"2024-07-01\"\n",
    "tissue_general = \"tongue\"\n",
    "var_filter = None\n",
    "dask_chunk_size = 0  # Non-Dask mode, by default"
   ]
  },
  {
   "cell_type": "code",
   "execution_count": 2,
   "id": "75021fa4",
   "metadata": {
    "execution": {
     "iopub.execute_input": "2024-11-14T18:09:39.852150Z",
     "iopub.status.busy": "2024-11-14T18:09:39.851770Z",
     "iopub.status.idle": "2024-11-14T18:09:39.854360Z",
     "shell.execute_reply": "2024-11-14T18:09:39.853932Z"
    },
    "papermill": {
     "duration": 0.00532,
     "end_time": "2024-11-14T18:09:39.855171",
     "exception": false,
     "start_time": "2024-11-14T18:09:39.849851",
     "status": "completed"
    },
    "tags": [
     "injected-parameters"
    ]
   },
   "outputs": [],
   "source": [
    "# Parameters\n",
    "tissue_general = \"stomach\"\n",
    "dask_chunk_size = 50000\n"
   ]
  },
  {
   "cell_type": "code",
   "execution_count": 3,
   "id": "c798eb53-1740-44d5-8035-ee146e09424e",
   "metadata": {
    "editable": true,
    "execution": {
     "iopub.execute_input": "2024-11-14T18:09:39.858957Z",
     "iopub.status.busy": "2024-11-14T18:09:39.858579Z",
     "iopub.status.idle": "2024-11-14T18:09:41.687409Z",
     "shell.execute_reply": "2024-11-14T18:09:41.686833Z"
    },
    "papermill": {
     "duration": 1.831668,
     "end_time": "2024-11-14T18:09:41.688345",
     "exception": false,
     "start_time": "2024-11-14T18:09:39.856677",
     "status": "completed"
    },
    "slideshow": {
     "slide_type": ""
    },
    "tags": []
   },
   "outputs": [
    {
     "data": {
      "text/plain": [
       "<Experiment 's3://cellxgene-census-public-us-west-2/cell-census/2024-07-01/soma/census_data/homo_sapiens' (open for 'r') (2 items)\n",
       "    'ms': 's3://cellxgene-census-public-us-west-2/cell-census/2024-07-01/soma/census_data/homo_sapiens/ms' (unopened)\n",
       "    'obs': 's3://cellxgene-census-public-us-west-2/cell-census/2024-07-01/soma/census_data/homo_sapiens/obs' (unopened)>"
      ]
     },
     "execution_count": 3,
     "metadata": {},
     "output_type": "execute_result"
    }
   ],
   "source": [
    "from typing import Literal\n",
    "import anndata as ad\n",
    "import scanpy as sc\n",
    "from somacore import AxisQuery\n",
    "from tiledbsoma import Experiment, SOMATileDBContext\n",
    "\n",
    "DEFAULT_CONFIG = {\n",
    "    \"vfs.s3.no_sign_request\": \"true\",\n",
    "    \"vfs.s3.region\": \"us-west-2\"\n",
    "}\n",
    "CENSUS_S3 = \"s3://cellxgene-census-public-us-west-2/cell-census\"\n",
    "\n",
    "species = \"homo_sapiens\"\n",
    "soma_uri = f\"{CENSUS_S3}/{census}/soma\"\n",
    "exp_uri = f\"{soma_uri}/census_data/{species}\"\n",
    "\n",
    "exp = Experiment.open(\n",
    "    exp_uri,\n",
    "    context=SOMATileDBContext(tiledb_config=DEFAULT_CONFIG)\n",
    ")\n",
    "exp"
   ]
  },
  {
   "cell_type": "code",
   "execution_count": 4,
   "id": "de46251e-8831-4d15-a3ae-24eac79ac418",
   "metadata": {
    "editable": true,
    "execution": {
     "iopub.execute_input": "2024-11-14T18:09:41.693206Z",
     "iopub.status.busy": "2024-11-14T18:09:41.692585Z",
     "iopub.status.idle": "2024-11-14T18:09:41.807978Z",
     "shell.execute_reply": "2024-11-14T18:09:41.807382Z"
    },
    "papermill": {
     "duration": 0.118523,
     "end_time": "2024-11-14T18:09:41.808837",
     "exception": false,
     "start_time": "2024-11-14T18:09:41.690314",
     "status": "completed"
    },
    "slideshow": {
     "slide_type": ""
    },
    "tags": []
   },
   "outputs": [
    {
     "name": "stdout",
     "output_type": "stream",
     "text": [
      "CPU times: user 8.98 ms, sys: 12.6 ms, total: 21.6 ms\n",
      "Wall time: 111 ms\n"
     ]
    }
   ],
   "source": [
    "%%time\n",
    "obs_filter = f'tissue_general == \"{tissue_general}\"' if tissue_general else None\n",
    "query = exp.axis_query(\n",
    "    measurement_name=meas,\n",
    "    obs_query=AxisQuery(value_filter=obs_filter) if obs_filter else None,\n",
    "    var_query=AxisQuery(value_filter=var_filter) if var_filter else None,\n",
    ")"
   ]
  },
  {
   "cell_type": "code",
   "execution_count": 5,
   "id": "b3c06e17-1b31-4949-ac08-342345ec4068",
   "metadata": {
    "editable": true,
    "execution": {
     "iopub.execute_input": "2024-11-14T18:09:41.813301Z",
     "iopub.status.busy": "2024-11-14T18:09:41.812904Z",
     "iopub.status.idle": "2024-11-14T18:09:42.947686Z",
     "shell.execute_reply": "2024-11-14T18:09:42.947181Z"
    },
    "papermill": {
     "duration": 1.137866,
     "end_time": "2024-11-14T18:09:42.948624",
     "exception": false,
     "start_time": "2024-11-14T18:09:41.810758",
     "status": "completed"
    },
    "slideshow": {
     "slide_type": ""
    },
    "tags": []
   },
   "outputs": [
    {
     "name": "stdout",
     "output_type": "stream",
     "text": [
      "CPU times: user 571 ms, sys: 824 ms, total: 1.39 s\n",
      "Wall time: 1.13 s\n"
     ]
    },
    {
     "data": {
      "text/plain": [
       "446348"
      ]
     },
     "execution_count": 5,
     "metadata": {},
     "output_type": "execute_result"
    }
   ],
   "source": [
    "%%time\n",
    "query.n_obs"
   ]
  },
  {
   "cell_type": "markdown",
   "id": "97fa4f9f-bfc2-4382-b985-feccbf625184",
   "metadata": {
    "editable": true,
    "papermill": {
     "duration": 0.00196,
     "end_time": "2024-11-14T18:09:42.953524",
     "exception": false,
     "start_time": "2024-11-14T18:09:42.951564",
     "status": "completed"
    },
    "slideshow": {
     "slide_type": ""
    },
    "tags": []
   },
   "source": [
    "## HVG"
   ]
  },
  {
   "cell_type": "code",
   "execution_count": 6,
   "id": "35fb9a55-c4d5-4ba1-bfbc-30eb579263bd",
   "metadata": {
    "editable": true,
    "execution": {
     "iopub.execute_input": "2024-11-14T18:09:42.957929Z",
     "iopub.status.busy": "2024-11-14T18:09:42.957684Z",
     "iopub.status.idle": "2024-11-14T18:09:45.898972Z",
     "shell.execute_reply": "2024-11-14T18:09:45.898288Z"
    },
    "papermill": {
     "duration": 2.944665,
     "end_time": "2024-11-14T18:09:45.899995",
     "exception": false,
     "start_time": "2024-11-14T18:09:42.955330",
     "status": "completed"
    },
    "slideshow": {
     "slide_type": ""
    },
    "tags": []
   },
   "outputs": [
    {
     "name": "stdout",
     "output_type": "stream",
     "text": [
      "CPU times: user 1.36 s, sys: 1.77 s, total: 3.13 s\n",
      "Wall time: 2.94 s\n"
     ]
    },
    {
     "data": {
      "text/plain": [
       "AnnData object with n_obs × n_vars = 446348 × 60530\n",
       "    obs: 'soma_joinid', 'dataset_id', 'assay', 'assay_ontology_term_id', 'cell_type', 'cell_type_ontology_term_id', 'development_stage', 'development_stage_ontology_term_id', 'disease', 'disease_ontology_term_id', 'donor_id', 'is_primary_data', 'observation_joinid', 'self_reported_ethnicity', 'self_reported_ethnicity_ontology_term_id', 'sex', 'sex_ontology_term_id', 'suspension_type', 'tissue', 'tissue_ontology_term_id', 'tissue_type', 'tissue_general', 'tissue_general_ontology_term_id', 'raw_sum', 'nnz', 'raw_mean_nnz', 'raw_variance_nnz', 'n_measured_vars'\n",
       "    var: 'soma_joinid', 'feature_id', 'feature_name', 'feature_length', 'nnz', 'n_measured_obs'"
      ]
     },
     "execution_count": 6,
     "metadata": {},
     "output_type": "execute_result"
    }
   ],
   "source": [
    "%%time\n",
    "add = query.to_anndata(layer, dask_chunk_size=dask_chunk_size if dask_chunk_size else None)\n",
    "add"
   ]
  },
  {
   "cell_type": "code",
   "execution_count": 7,
   "id": "aeb2169a-82e8-45ff-82d6-5d3805458b0d",
   "metadata": {
    "editable": true,
    "execution": {
     "iopub.execute_input": "2024-11-14T18:09:45.905248Z",
     "iopub.status.busy": "2024-11-14T18:09:45.904828Z",
     "iopub.status.idle": "2024-11-14T18:09:45.993889Z",
     "shell.execute_reply": "2024-11-14T18:09:45.993278Z"
    },
    "papermill": {
     "duration": 0.092609,
     "end_time": "2024-11-14T18:09:45.994910",
     "exception": false,
     "start_time": "2024-11-14T18:09:45.902301",
     "status": "completed"
    },
    "slideshow": {
     "slide_type": ""
    },
    "tags": []
   },
   "outputs": [
    {
     "name": "stdout",
     "output_type": "stream",
     "text": [
      "CPU times: user 71.5 ms, sys: 14.3 ms, total: 85.8 ms\n",
      "Wall time: 85.4 ms\n"
     ]
    }
   ],
   "source": [
    "%%time\n",
    "sc.pp.normalize_total(add)"
   ]
  },
  {
   "cell_type": "code",
   "execution_count": 8,
   "id": "2c875f3b-71b4-4393-b1eb-9ea1de2538bb",
   "metadata": {
    "execution": {
     "iopub.execute_input": "2024-11-14T18:09:46.000310Z",
     "iopub.status.busy": "2024-11-14T18:09:45.999800Z",
     "iopub.status.idle": "2024-11-14T18:09:46.005658Z",
     "shell.execute_reply": "2024-11-14T18:09:46.005118Z"
    },
    "papermill": {
     "duration": 0.009295,
     "end_time": "2024-11-14T18:09:46.006438",
     "exception": false,
     "start_time": "2024-11-14T18:09:45.997143",
     "status": "completed"
    },
    "tags": []
   },
   "outputs": [
    {
     "name": "stdout",
     "output_type": "stream",
     "text": [
      "CPU times: user 2.23 ms, sys: 164 μs, total: 2.4 ms\n",
      "Wall time: 2.38 ms\n"
     ]
    }
   ],
   "source": [
    "%%time\n",
    "sc.pp.log1p(add)"
   ]
  },
  {
   "cell_type": "code",
   "execution_count": 9,
   "id": "c050465e-05ac-4599-a17a-d77825982f77",
   "metadata": {
    "execution": {
     "iopub.execute_input": "2024-11-14T18:09:46.011464Z",
     "iopub.status.busy": "2024-11-14T18:09:46.011098Z",
     "iopub.status.idle": "2024-11-14T18:14:33.236886Z",
     "shell.execute_reply": "2024-11-14T18:14:33.236152Z"
    },
    "papermill": {
     "duration": 287.230864,
     "end_time": "2024-11-14T18:14:33.239446",
     "exception": false,
     "start_time": "2024-11-14T18:09:46.008582",
     "status": "completed"
    },
    "tags": []
   },
   "outputs": [
    {
     "name": "stdout",
     "output_type": "stream",
     "text": [
      "CPU times: user 5min 57s, sys: 1min 1s, total: 6min 58s\n",
      "Wall time: 4min 47s\n"
     ]
    },
    {
     "data": {
      "text/html": [
       "<div>\n",
       "<style scoped>\n",
       "    .dataframe tbody tr th:only-of-type {\n",
       "        vertical-align: middle;\n",
       "    }\n",
       "\n",
       "    .dataframe tbody tr th {\n",
       "        vertical-align: top;\n",
       "    }\n",
       "\n",
       "    .dataframe thead th {\n",
       "        text-align: right;\n",
       "    }\n",
       "</style>\n",
       "<table border=\"1\" class=\"dataframe\">\n",
       "  <thead>\n",
       "    <tr style=\"text-align: right;\">\n",
       "      <th></th>\n",
       "      <th>means</th>\n",
       "      <th>dispersions</th>\n",
       "      <th>mean_bin</th>\n",
       "      <th>dispersions_norm</th>\n",
       "      <th>highly_variable</th>\n",
       "    </tr>\n",
       "  </thead>\n",
       "  <tbody>\n",
       "    <tr>\n",
       "      <th>6</th>\n",
       "      <td>0.100212</td>\n",
       "      <td>1.625945</td>\n",
       "      <td>(-0.00467, 0.234]</td>\n",
       "      <td>0.589460</td>\n",
       "      <td>True</td>\n",
       "    </tr>\n",
       "    <tr>\n",
       "      <th>15</th>\n",
       "      <td>0.024124</td>\n",
       "      <td>1.667075</td>\n",
       "      <td>(-0.00467, 0.234]</td>\n",
       "      <td>0.637106</td>\n",
       "      <td>True</td>\n",
       "    </tr>\n",
       "    <tr>\n",
       "      <th>32</th>\n",
       "      <td>0.017364</td>\n",
       "      <td>2.113827</td>\n",
       "      <td>(-0.00467, 0.234]</td>\n",
       "      <td>1.154626</td>\n",
       "      <td>True</td>\n",
       "    </tr>\n",
       "    <tr>\n",
       "      <th>43</th>\n",
       "      <td>0.026201</td>\n",
       "      <td>1.647127</td>\n",
       "      <td>(-0.00467, 0.234]</td>\n",
       "      <td>0.613997</td>\n",
       "      <td>True</td>\n",
       "    </tr>\n",
       "    <tr>\n",
       "      <th>56</th>\n",
       "      <td>0.046380</td>\n",
       "      <td>1.721354</td>\n",
       "      <td>(-0.00467, 0.234]</td>\n",
       "      <td>0.699982</td>\n",
       "      <td>True</td>\n",
       "    </tr>\n",
       "    <tr>\n",
       "      <th>...</th>\n",
       "      <td>...</td>\n",
       "      <td>...</td>\n",
       "      <td>...</td>\n",
       "      <td>...</td>\n",
       "      <td>...</td>\n",
       "    </tr>\n",
       "    <tr>\n",
       "      <th>53011</th>\n",
       "      <td>0.023929</td>\n",
       "      <td>2.356097</td>\n",
       "      <td>(-0.00467, 0.234]</td>\n",
       "      <td>1.435273</td>\n",
       "      <td>True</td>\n",
       "    </tr>\n",
       "    <tr>\n",
       "      <th>53870</th>\n",
       "      <td>0.034305</td>\n",
       "      <td>2.465700</td>\n",
       "      <td>(-0.00467, 0.234]</td>\n",
       "      <td>1.562239</td>\n",
       "      <td>True</td>\n",
       "    </tr>\n",
       "    <tr>\n",
       "      <th>53899</th>\n",
       "      <td>0.026581</td>\n",
       "      <td>2.059644</td>\n",
       "      <td>(-0.00467, 0.234]</td>\n",
       "      <td>1.091860</td>\n",
       "      <td>True</td>\n",
       "    </tr>\n",
       "    <tr>\n",
       "      <th>57029</th>\n",
       "      <td>0.028378</td>\n",
       "      <td>1.884718</td>\n",
       "      <td>(-0.00467, 0.234]</td>\n",
       "      <td>0.889224</td>\n",
       "      <td>True</td>\n",
       "    </tr>\n",
       "    <tr>\n",
       "      <th>57219</th>\n",
       "      <td>0.014366</td>\n",
       "      <td>1.901797</td>\n",
       "      <td>(-0.00467, 0.234]</td>\n",
       "      <td>0.909009</td>\n",
       "      <td>True</td>\n",
       "    </tr>\n",
       "  </tbody>\n",
       "</table>\n",
       "<p>1428 rows × 5 columns</p>\n",
       "</div>"
      ],
      "text/plain": [
       "          means  dispersions           mean_bin  dispersions_norm  \\\n",
       "6      0.100212     1.625945  (-0.00467, 0.234]          0.589460   \n",
       "15     0.024124     1.667075  (-0.00467, 0.234]          0.637106   \n",
       "32     0.017364     2.113827  (-0.00467, 0.234]          1.154626   \n",
       "43     0.026201     1.647127  (-0.00467, 0.234]          0.613997   \n",
       "56     0.046380     1.721354  (-0.00467, 0.234]          0.699982   \n",
       "...         ...          ...                ...               ...   \n",
       "53011  0.023929     2.356097  (-0.00467, 0.234]          1.435273   \n",
       "53870  0.034305     2.465700  (-0.00467, 0.234]          1.562239   \n",
       "53899  0.026581     2.059644  (-0.00467, 0.234]          1.091860   \n",
       "57029  0.028378     1.884718  (-0.00467, 0.234]          0.889224   \n",
       "57219  0.014366     1.901797  (-0.00467, 0.234]          0.909009   \n",
       "\n",
       "       highly_variable  \n",
       "6                 True  \n",
       "15                True  \n",
       "32                True  \n",
       "43                True  \n",
       "56                True  \n",
       "...                ...  \n",
       "53011             True  \n",
       "53870             True  \n",
       "53899             True  \n",
       "57029             True  \n",
       "57219             True  \n",
       "\n",
       "[1428 rows x 5 columns]"
      ]
     },
     "execution_count": 9,
     "metadata": {},
     "output_type": "execute_result"
    }
   ],
   "source": [
    "%%time\n",
    "hvg = sc.pp.highly_variable_genes(add, inplace=False, subset=True)\n",
    "hvg"
   ]
  },
  {
   "cell_type": "markdown",
   "id": "658f9db8-90eb-4327-8f10-6ae79c7f8f15",
   "metadata": {
    "editable": true,
    "papermill": {
     "duration": 0.002162,
     "end_time": "2024-11-14T18:14:33.244108",
     "exception": false,
     "start_time": "2024-11-14T18:14:33.241946",
     "status": "completed"
    },
    "slideshow": {
     "slide_type": ""
    },
    "tags": []
   },
   "source": [
    "---\n",
    "Census `tissue_general` counts, for reference:\n",
    "```python\n",
    "exp_obs = exp.obs.read().concat().to_pandas()\n",
    "exp_obs.tissue_general.value_counts()\n",
    "```\n",
    "```\n",
    "tissue_general\n",
    "brain                       26281059\n",
    "blood                       10835244\n",
    "lung                         6231233\n",
    "breast                       5555979\n",
    "eye                          4190842\n",
    "heart                        3629952\n",
    "kidney                       2083054\n",
    "liver                        1815408\n",
    "small intestine              1237182\n",
    "skin of body                 1045024\n",
    "endocrine gland               979667\n",
    "respiratory system            944355\n",
    "bone marrow                   813373\n",
    "spleen                        751041\n",
    "lymph node                    717899\n",
    "colon                         714413\n",
    "placenta                      638786\n",
    "reproductive system           570488\n",
    "adrenal gland                 560114\n",
    "nose                          470445\n",
    "adipose tissue                468603\n",
    "stomach                       446348\n",
    "prostate gland                348664\n",
    "fallopian tube                250178\n",
    "pancreas                      250161\n",
    "esophagus                     215951\n",
    "digestive system              211912\n",
    "musculature                   189452\n",
    "large intestine               180996\n",
    "pleural fluid                 179134\n",
    "yolk sac                      169725\n",
    "embryo                        165937\n",
    "uterus                        148198\n",
    "mucosa                        131978\n",
    "spinal cord                   117463\n",
    "exocrine gland                115722\n",
    "intestine                     104490\n",
    "immune system                  89046\n",
    "bladder organ                  82797\n",
    "vasculature                    63667\n",
    "ovary                          53751\n",
    "lamina propria                 45230\n",
    "tongue                         45060\n",
    "central nervous system         31780\n",
    "esophagogastric junction       29105\n",
    "axilla                         19792\n",
    "pleura                         19695\n",
    "skeletal system                14680\n",
    "saliva                         14502\n",
    "omentum                        14003\n",
    "testis                         13211\n",
    "tendon of semitendinosus       10533\n",
    "gallbladder                     9769\n",
    "scalp                           3029\n",
    "ureter                          2390\n",
    "Name: count, dtype: int64\n",
    "```"
   ]
  }
 ],
 "metadata": {
  "kernelspec": {
   "display_name": "Python 3 (ipykernel)",
   "language": "python",
   "name": "python3"
  },
  "language_info": {
   "codemirror_mode": {
    "name": "ipython",
    "version": 3
   },
   "file_extension": ".py",
   "mimetype": "text/x-python",
   "name": "python",
   "nbconvert_exporter": "python",
   "pygments_lexer": "ipython3",
   "version": "3.12.6"
  },
  "papermill": {
   "default_parameters": {},
   "duration": 294.954486,
   "end_time": "2024-11-14T18:14:33.963281",
   "environment_variables": {},
   "exception": null,
   "input_path": "hvg.ipynb",
   "output_path": "hvg-stomach-50k.ipynb",
   "parameters": {
    "dask_chunk_size": 50000,
    "tissue_general": "stomach"
   },
   "start_time": "2024-11-14T18:09:39.008795",
   "version": "2.6.0"
  }
 },
 "nbformat": 4,
 "nbformat_minor": 5
}