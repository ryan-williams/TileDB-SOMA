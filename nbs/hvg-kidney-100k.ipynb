{
 "cells": [
  {
   "cell_type": "code",
   "execution_count": 1,
   "id": "27ef4e23-2197-4889-93ed-42e551ec4d87",
   "metadata": {
    "editable": true,
    "execution": {
     "iopub.execute_input": "2024-11-13T22:12:21.305560Z",
     "iopub.status.busy": "2024-11-13T22:12:21.305229Z",
     "iopub.status.idle": "2024-11-13T22:12:21.308823Z",
     "shell.execute_reply": "2024-11-13T22:12:21.308359Z"
    },
    "papermill": {
     "duration": 0.007672,
     "end_time": "2024-11-13T22:12:21.309638",
     "exception": false,
     "start_time": "2024-11-13T22:12:21.301966",
     "status": "completed"
    },
    "slideshow": {
     "slide_type": ""
    },
    "tags": [
     "parameters"
    ]
   },
   "outputs": [],
   "source": [
    "meas = \"RNA\"\n",
    "layer = \"raw\"\n",
    "census = \"2024-07-01\"\n",
    "obs_filter = 'tissue_general == \"tongue\"'\n",
    "var_filter = None\n",
    "dask_chunk_size = 10_000"
   ]
  },
  {
   "cell_type": "code",
   "execution_count": 2,
   "id": "eda4b5bd",
   "metadata": {
    "execution": {
     "iopub.execute_input": "2024-11-13T22:12:21.314886Z",
     "iopub.status.busy": "2024-11-13T22:12:21.314525Z",
     "iopub.status.idle": "2024-11-13T22:12:21.317298Z",
     "shell.execute_reply": "2024-11-13T22:12:21.316807Z"
    },
    "papermill": {
     "duration": 0.005995,
     "end_time": "2024-11-13T22:12:21.318094",
     "exception": false,
     "start_time": "2024-11-13T22:12:21.312099",
     "status": "completed"
    },
    "tags": [
     "injected-parameters"
    ]
   },
   "outputs": [],
   "source": [
    "# Parameters\n",
    "obs_filter = \"tissue_general == \\\"kidney\\\"\"\n",
    "dask_chunk_size = 100000\n"
   ]
  },
  {
   "cell_type": "code",
   "execution_count": 3,
   "id": "c798eb53-1740-44d5-8035-ee146e09424e",
   "metadata": {
    "editable": true,
    "execution": {
     "iopub.execute_input": "2024-11-13T22:12:21.322754Z",
     "iopub.status.busy": "2024-11-13T22:12:21.322284Z",
     "iopub.status.idle": "2024-11-13T22:12:23.165017Z",
     "shell.execute_reply": "2024-11-13T22:12:23.164511Z"
    },
    "papermill": {
     "duration": 1.845993,
     "end_time": "2024-11-13T22:12:23.165938",
     "exception": false,
     "start_time": "2024-11-13T22:12:21.319945",
     "status": "completed"
    },
    "slideshow": {
     "slide_type": ""
    },
    "tags": []
   },
   "outputs": [
    {
     "data": {
      "text/plain": [
       "<Experiment 's3://cellxgene-census-public-us-west-2/cell-census/2024-07-01/soma/census_data/homo_sapiens' (open for 'r') (2 items)\n",
       "    'ms': 's3://cellxgene-census-public-us-west-2/cell-census/2024-07-01/soma/census_data/homo_sapiens/ms' (unopened)\n",
       "    'obs': 's3://cellxgene-census-public-us-west-2/cell-census/2024-07-01/soma/census_data/homo_sapiens/obs' (unopened)>"
      ]
     },
     "execution_count": 3,
     "metadata": {},
     "output_type": "execute_result"
    }
   ],
   "source": [
    "from typing import Literal\n",
    "import anndata as ad\n",
    "import scanpy as sc\n",
    "from somacore import AxisQuery\n",
    "from tiledbsoma import Experiment, SOMATileDBContext\n",
    "\n",
    "DEFAULT_CONFIG = {\n",
    "    \"vfs.s3.no_sign_request\": \"true\",\n",
    "    \"vfs.s3.region\": \"us-west-2\"\n",
    "}\n",
    "CENSUS_S3 = \"s3://cellxgene-census-public-us-west-2/cell-census\"\n",
    "\n",
    "species = \"homo_sapiens\"\n",
    "soma_uri = f\"{CENSUS_S3}/{census}/soma\"\n",
    "exp_uri = f\"{soma_uri}/census_data/{species}\"\n",
    "\n",
    "exp = Experiment.open(\n",
    "    exp_uri,\n",
    "    context=SOMATileDBContext(tiledb_config=DEFAULT_CONFIG)\n",
    ")\n",
    "exp"
   ]
  },
  {
   "cell_type": "code",
   "execution_count": 4,
   "id": "de46251e-8831-4d15-a3ae-24eac79ac418",
   "metadata": {
    "editable": true,
    "execution": {
     "iopub.execute_input": "2024-11-13T22:12:23.172204Z",
     "iopub.status.busy": "2024-11-13T22:12:23.171111Z",
     "iopub.status.idle": "2024-11-13T22:12:23.278294Z",
     "shell.execute_reply": "2024-11-13T22:12:23.277691Z"
    },
    "papermill": {
     "duration": 0.110588,
     "end_time": "2024-11-13T22:12:23.279095",
     "exception": false,
     "start_time": "2024-11-13T22:12:23.168507",
     "status": "completed"
    },
    "slideshow": {
     "slide_type": ""
    },
    "tags": []
   },
   "outputs": [
    {
     "name": "stdout",
     "output_type": "stream",
     "text": [
      "CPU times: user 6.51 ms, sys: 3.5 ms, total: 10 ms\n",
      "Wall time: 102 ms\n"
     ]
    }
   ],
   "source": [
    "%%time\n",
    "query = exp.axis_query(\n",
    "    measurement_name=meas,\n",
    "    obs_query=AxisQuery(value_filter=obs_filter) if obs_filter else None,\n",
    "    var_query=AxisQuery(value_filter=var_filter) if var_filter else None,\n",
    ")"
   ]
  },
  {
   "cell_type": "code",
   "execution_count": 5,
   "id": "b3c06e17-1b31-4949-ac08-342345ec4068",
   "metadata": {
    "editable": true,
    "execution": {
     "iopub.execute_input": "2024-11-13T22:12:23.284287Z",
     "iopub.status.busy": "2024-11-13T22:12:23.283909Z",
     "iopub.status.idle": "2024-11-13T22:12:23.963029Z",
     "shell.execute_reply": "2024-11-13T22:12:23.962499Z"
    },
    "papermill": {
     "duration": 0.682439,
     "end_time": "2024-11-13T22:12:23.963859",
     "exception": false,
     "start_time": "2024-11-13T22:12:23.281420",
     "status": "completed"
    },
    "slideshow": {
     "slide_type": ""
    },
    "tags": []
   },
   "outputs": [
    {
     "name": "stdout",
     "output_type": "stream",
     "text": [
      "CPU times: user 631 ms, sys: 487 ms, total: 1.12 s\n",
      "Wall time: 674 ms\n"
     ]
    },
    {
     "data": {
      "text/plain": [
       "2083054"
      ]
     },
     "execution_count": 5,
     "metadata": {},
     "output_type": "execute_result"
    }
   ],
   "source": [
    "%%time\n",
    "query.n_obs"
   ]
  },
  {
   "cell_type": "markdown",
   "id": "97fa4f9f-bfc2-4382-b985-feccbf625184",
   "metadata": {
    "editable": true,
    "papermill": {
     "duration": 0.002116,
     "end_time": "2024-11-13T22:12:23.968681",
     "exception": false,
     "start_time": "2024-11-13T22:12:23.966565",
     "status": "completed"
    },
    "slideshow": {
     "slide_type": ""
    },
    "tags": []
   },
   "source": [
    "## HVG (Dask mode)"
   ]
  },
  {
   "cell_type": "code",
   "execution_count": 6,
   "id": "35fb9a55-c4d5-4ba1-bfbc-30eb579263bd",
   "metadata": {
    "editable": true,
    "execution": {
     "iopub.execute_input": "2024-11-13T22:12:23.973770Z",
     "iopub.status.busy": "2024-11-13T22:12:23.973524Z",
     "iopub.status.idle": "2024-11-13T22:12:31.350589Z",
     "shell.execute_reply": "2024-11-13T22:12:31.349916Z"
    },
    "papermill": {
     "duration": 7.380839,
     "end_time": "2024-11-13T22:12:31.351624",
     "exception": false,
     "start_time": "2024-11-13T22:12:23.970785",
     "status": "completed"
    },
    "slideshow": {
     "slide_type": ""
    },
    "tags": []
   },
   "outputs": [
    {
     "name": "stdout",
     "output_type": "stream",
     "text": [
      "CPU times: user 4.43 s, sys: 3.41 s, total: 7.84 s\n",
      "Wall time: 7.37 s\n"
     ]
    },
    {
     "data": {
      "text/plain": [
       "AnnData object with n_obs × n_vars = 2083054 × 60530\n",
       "    obs: 'soma_joinid', 'dataset_id', 'assay', 'assay_ontology_term_id', 'cell_type', 'cell_type_ontology_term_id', 'development_stage', 'development_stage_ontology_term_id', 'disease', 'disease_ontology_term_id', 'donor_id', 'is_primary_data', 'observation_joinid', 'self_reported_ethnicity', 'self_reported_ethnicity_ontology_term_id', 'sex', 'sex_ontology_term_id', 'suspension_type', 'tissue', 'tissue_ontology_term_id', 'tissue_type', 'tissue_general', 'tissue_general_ontology_term_id', 'raw_sum', 'nnz', 'raw_mean_nnz', 'raw_variance_nnz', 'n_measured_vars'\n",
       "    var: 'soma_joinid', 'feature_id', 'feature_name', 'feature_length', 'nnz', 'n_measured_obs'"
      ]
     },
     "execution_count": 6,
     "metadata": {},
     "output_type": "execute_result"
    }
   ],
   "source": [
    "%%time\n",
    "add = query.to_anndata(layer, dask_chunk_size=dask_chunk_size)\n",
    "add"
   ]
  },
  {
   "cell_type": "code",
   "execution_count": 7,
   "id": "aeb2169a-82e8-45ff-82d6-5d3805458b0d",
   "metadata": {
    "editable": true,
    "execution": {
     "iopub.execute_input": "2024-11-13T22:12:31.357551Z",
     "iopub.status.busy": "2024-11-13T22:12:31.357269Z",
     "iopub.status.idle": "2024-11-13T22:12:31.645152Z",
     "shell.execute_reply": "2024-11-13T22:12:31.644499Z"
    },
    "papermill": {
     "duration": 0.29189,
     "end_time": "2024-11-13T22:12:31.646258",
     "exception": false,
     "start_time": "2024-11-13T22:12:31.354368",
     "status": "completed"
    },
    "slideshow": {
     "slide_type": ""
    },
    "tags": []
   },
   "outputs": [
    {
     "name": "stdout",
     "output_type": "stream",
     "text": [
      "CPU times: user 223 ms, sys: 61.8 ms, total: 285 ms\n",
      "Wall time: 284 ms\n"
     ]
    }
   ],
   "source": [
    "%%time\n",
    "sc.pp.normalize_total(add)"
   ]
  },
  {
   "cell_type": "code",
   "execution_count": 8,
   "id": "2c875f3b-71b4-4393-b1eb-9ea1de2538bb",
   "metadata": {
    "execution": {
     "iopub.execute_input": "2024-11-13T22:12:31.652565Z",
     "iopub.status.busy": "2024-11-13T22:12:31.652148Z",
     "iopub.status.idle": "2024-11-13T22:12:31.658689Z",
     "shell.execute_reply": "2024-11-13T22:12:31.658123Z"
    },
    "papermill": {
     "duration": 0.010426,
     "end_time": "2024-11-13T22:12:31.659615",
     "exception": false,
     "start_time": "2024-11-13T22:12:31.649189",
     "status": "completed"
    },
    "tags": []
   },
   "outputs": [
    {
     "name": "stdout",
     "output_type": "stream",
     "text": [
      "CPU times: user 1.84 ms, sys: 898 μs, total: 2.73 ms\n",
      "Wall time: 2.65 ms\n"
     ]
    }
   ],
   "source": [
    "%%time\n",
    "sc.pp.log1p(add)"
   ]
  },
  {
   "cell_type": "code",
   "execution_count": 9,
   "id": "c050465e-05ac-4599-a17a-d77825982f77",
   "metadata": {
    "execution": {
     "iopub.execute_input": "2024-11-13T22:12:31.665526Z",
     "iopub.status.busy": "2024-11-13T22:12:31.665135Z"
    },
    "papermill": {
     "duration": 15.127241,
     "end_time": "2024-11-13T22:12:46.789437",
     "exception": false,
     "start_time": "2024-11-13T22:12:31.662196",
     "status": "completed"
    },
    "tags": []
   },
   "outputs": [],
   "source": [
    "%%time\n",
    "hvg = sc.pp.highly_variable_genes(add, inplace=False, subset=True)\n",
    "hvg"
   ]
  },
  {
   "cell_type": "markdown",
   "id": "082adff0-004f-4ba3-97cd-e0d6fe439543",
   "metadata": {
    "editable": true,
    "papermill": {
     "duration": null,
     "end_time": null,
     "exception": null,
     "start_time": null,
     "status": "completed"
    },
    "slideshow": {
     "slide_type": ""
    },
    "tags": []
   },
   "source": [
    "## HVG (non-Dask mode)"
   ]
  },
  {
   "cell_type": "code",
   "execution_count": null,
   "id": "6c9e5263-28c9-4a0f-8654-b353137f2e66",
   "metadata": {
    "editable": true,
    "papermill": {
     "duration": null,
     "end_time": null,
     "exception": null,
     "start_time": null,
     "status": "completed"
    },
    "slideshow": {
     "slide_type": ""
    },
    "tags": []
   },
   "outputs": [],
   "source": [
    "%%time\n",
    "adata = query.to_anndata('raw')\n",
    "adata"
   ]
  },
  {
   "cell_type": "code",
   "execution_count": null,
   "id": "7cd6e32f-bc93-4220-b2d6-bc270ec7067c",
   "metadata": {
    "papermill": {
     "duration": null,
     "end_time": null,
     "exception": null,
     "start_time": null,
     "status": "completed"
    },
    "tags": []
   },
   "outputs": [],
   "source": [
    "%%time\n",
    "sc.pp.normalize_total(adata)"
   ]
  },
  {
   "cell_type": "code",
   "execution_count": null,
   "id": "21a686ce-8b5c-4b02-8ea5-5e430dfa2f2e",
   "metadata": {
    "papermill": {
     "duration": null,
     "end_time": null,
     "exception": null,
     "start_time": null,
     "status": "completed"
    },
    "tags": []
   },
   "outputs": [],
   "source": [
    "%%time\n",
    "sc.pp.log1p(adata)"
   ]
  },
  {
   "cell_type": "code",
   "execution_count": null,
   "id": "f506c506-f93b-4b00-b522-317a174b6e38",
   "metadata": {
    "papermill": {
     "duration": null,
     "end_time": null,
     "exception": null,
     "start_time": null,
     "status": "completed"
    },
    "tags": []
   },
   "outputs": [],
   "source": [
    "%%time\n",
    "hvg = sc.pp.highly_variable_genes(adata, inplace=False, subset=True)\n",
    "hvg"
   ]
  },
  {
   "cell_type": "markdown",
   "id": "658f9db8-90eb-4327-8f10-6ae79c7f8f15",
   "metadata": {
    "editable": true,
    "papermill": {
     "duration": null,
     "end_time": null,
     "exception": null,
     "start_time": null,
     "status": "completed"
    },
    "slideshow": {
     "slide_type": ""
    },
    "tags": []
   },
   "source": [
    "---\n",
    "Census `tissue_general` counts, for reference:\n",
    "```python\n",
    "exp_obs = exp.obs.read().concat().to_pandas()\n",
    "exp_obs.tissue_general.value_counts()\n",
    "```\n",
    "```\n",
    "tissue_general\n",
    "brain                       26281059\n",
    "blood                       10835244\n",
    "lung                         6231233\n",
    "breast                       5555979\n",
    "eye                          4190842\n",
    "heart                        3629952\n",
    "kidney                       2083054\n",
    "liver                        1815408\n",
    "small intestine              1237182\n",
    "skin of body                 1045024\n",
    "endocrine gland               979667\n",
    "respiratory system            944355\n",
    "bone marrow                   813373\n",
    "spleen                        751041\n",
    "lymph node                    717899\n",
    "colon                         714413\n",
    "placenta                      638786\n",
    "reproductive system           570488\n",
    "adrenal gland                 560114\n",
    "nose                          470445\n",
    "adipose tissue                468603\n",
    "stomach                       446348\n",
    "prostate gland                348664\n",
    "fallopian tube                250178\n",
    "pancreas                      250161\n",
    "esophagus                     215951\n",
    "digestive system              211912\n",
    "musculature                   189452\n",
    "large intestine               180996\n",
    "pleural fluid                 179134\n",
    "yolk sac                      169725\n",
    "embryo                        165937\n",
    "uterus                        148198\n",
    "mucosa                        131978\n",
    "spinal cord                   117463\n",
    "exocrine gland                115722\n",
    "intestine                     104490\n",
    "immune system                  89046\n",
    "bladder organ                  82797\n",
    "vasculature                    63667\n",
    "ovary                          53751\n",
    "lamina propria                 45230\n",
    "tongue                         45060\n",
    "central nervous system         31780\n",
    "esophagogastric junction       29105\n",
    "axilla                         19792\n",
    "pleura                         19695\n",
    "skeletal system                14680\n",
    "saliva                         14502\n",
    "omentum                        14003\n",
    "testis                         13211\n",
    "tendon of semitendinosus       10533\n",
    "gallbladder                     9769\n",
    "scalp                           3029\n",
    "ureter                          2390\n",
    "Name: count, dtype: int64\n",
    "```"
   ]
  }
 ],
 "metadata": {
  "kernelspec": {
   "display_name": "Python 3 (ipykernel)",
   "language": "python",
   "name": "python3"
  },
  "language_info": {
   "codemirror_mode": {
    "name": "ipython",
    "version": 3
   },
   "file_extension": ".py",
   "mimetype": "text/x-python",
   "name": "python",
   "nbconvert_exporter": "python",
   "pygments_lexer": "ipython3",
   "version": "3.12.6"
  },
  "papermill": {
   "default_parameters": {},
   "duration": 26.346003,
   "end_time": "2024-11-13T22:12:46.811891",
   "environment_variables": {},
   "exception": null,
   "input_path": "hvg.ipynb",
   "output_path": "hvg-kidney-100k.ipynb",
   "parameters": {
    "dask_chunk_size": 100000,
    "obs_filter": "tissue_general == \"kidney\""
   },
   "start_time": "2024-11-13T22:12:20.465888",
   "version": "2.6.0"
  }
 },
 "nbformat": 4,
 "nbformat_minor": 5
}