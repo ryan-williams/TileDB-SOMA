{
 "cells": [
  {
   "cell_type": "markdown",
   "id": "7c51117d",
   "metadata": {
    "tags": [
     "papermill-error-cell-tag"
    ]
   },
   "source": [
    "<span style=\"color:red; font-family:Helvetica Neue, Helvetica, Arial, sans-serif; font-size:2em;\">An Exception was encountered at '<a href=\"#papermill-error-cell\">In [9]</a>'.</span>"
   ]
  },
  {
   "cell_type": "code",
   "execution_count": 1,
   "id": "27ef4e23-2197-4889-93ed-42e551ec4d87",
   "metadata": {
    "editable": true,
    "execution": {
     "iopub.execute_input": "2024-11-14T16:25:41.499029Z",
     "iopub.status.busy": "2024-11-14T16:25:41.498582Z",
     "iopub.status.idle": "2024-11-14T16:25:41.503846Z",
     "shell.execute_reply": "2024-11-14T16:25:41.503347Z"
    },
    "papermill": {
     "duration": 0.008542,
     "end_time": "2024-11-14T16:25:41.504620",
     "exception": false,
     "start_time": "2024-11-14T16:25:41.496078",
     "status": "completed"
    },
    "slideshow": {
     "slide_type": ""
    },
    "tags": [
     "parameters"
    ]
   },
   "outputs": [],
   "source": [
    "meas = \"RNA\"\n",
    "layer = \"raw\"\n",
    "census = \"2024-07-01\"\n",
    "obs_filter = 'tissue_general == \"tongue\"'\n",
    "var_filter = None\n",
    "dask_chunk_size = 0  # Non-Dask mode, by default"
   ]
  },
  {
   "cell_type": "code",
   "execution_count": 2,
   "id": "09c8d719",
   "metadata": {
    "execution": {
     "iopub.execute_input": "2024-11-14T16:25:41.508905Z",
     "iopub.status.busy": "2024-11-14T16:25:41.508452Z",
     "iopub.status.idle": "2024-11-14T16:25:41.510835Z",
     "shell.execute_reply": "2024-11-14T16:25:41.510406Z"
    },
    "papermill": {
     "duration": 0.005042,
     "end_time": "2024-11-14T16:25:41.511546",
     "exception": false,
     "start_time": "2024-11-14T16:25:41.506504",
     "status": "completed"
    },
    "tags": [
     "injected-parameters"
    ]
   },
   "outputs": [],
   "source": [
    "# Parameters\n",
    "obs_filter = \"tissue_general == \\\"kidney\\\"\"\n"
   ]
  },
  {
   "cell_type": "code",
   "execution_count": 3,
   "id": "c798eb53-1740-44d5-8035-ee146e09424e",
   "metadata": {
    "editable": true,
    "execution": {
     "iopub.execute_input": "2024-11-14T16:25:41.515394Z",
     "iopub.status.busy": "2024-11-14T16:25:41.515012Z",
     "iopub.status.idle": "2024-11-14T16:25:42.878195Z",
     "shell.execute_reply": "2024-11-14T16:25:42.877683Z"
    },
    "papermill": {
     "duration": 1.366088,
     "end_time": "2024-11-14T16:25:42.879155",
     "exception": false,
     "start_time": "2024-11-14T16:25:41.513067",
     "status": "completed"
    },
    "slideshow": {
     "slide_type": ""
    },
    "tags": []
   },
   "outputs": [
    {
     "name": "stderr",
     "output_type": "stream",
     "text": [
      "/home/ubuntu/c/scverse/anndata/src/anndata/utils.py:429: FutureWarning: Importing read_csv from `anndata` is deprecated. Import anndata.io.read_csv instead.\n",
      "  warnings.warn(msg, FutureWarning)\n",
      "/home/ubuntu/c/scverse/anndata/src/anndata/utils.py:429: FutureWarning: Importing read_excel from `anndata` is deprecated. Import anndata.io.read_excel instead.\n",
      "  warnings.warn(msg, FutureWarning)\n",
      "/home/ubuntu/c/scverse/anndata/src/anndata/utils.py:429: FutureWarning: Importing read_hdf from `anndata` is deprecated. Import anndata.io.read_hdf instead.\n",
      "  warnings.warn(msg, FutureWarning)\n",
      "/home/ubuntu/c/scverse/anndata/src/anndata/utils.py:429: FutureWarning: Importing read_loom from `anndata` is deprecated. Import anndata.io.read_loom instead.\n",
      "  warnings.warn(msg, FutureWarning)\n",
      "/home/ubuntu/c/scverse/anndata/src/anndata/utils.py:429: FutureWarning: Importing read_mtx from `anndata` is deprecated. Import anndata.io.read_mtx instead.\n",
      "  warnings.warn(msg, FutureWarning)\n",
      "/home/ubuntu/c/scverse/anndata/src/anndata/utils.py:429: FutureWarning: Importing read_text from `anndata` is deprecated. Import anndata.io.read_text instead.\n",
      "  warnings.warn(msg, FutureWarning)\n",
      "/home/ubuntu/c/scverse/anndata/src/anndata/utils.py:429: FutureWarning: Importing read_umi_tools from `anndata` is deprecated. Import anndata.io.read_umi_tools instead.\n",
      "  warnings.warn(msg, FutureWarning)\n"
     ]
    },
    {
     "data": {
      "text/plain": [
       "<Experiment 's3://cellxgene-census-public-us-west-2/cell-census/2024-07-01/soma/census_data/homo_sapiens' (open for 'r') (2 items)\n",
       "    'ms': 's3://cellxgene-census-public-us-west-2/cell-census/2024-07-01/soma/census_data/homo_sapiens/ms' (unopened)\n",
       "    'obs': 's3://cellxgene-census-public-us-west-2/cell-census/2024-07-01/soma/census_data/homo_sapiens/obs' (unopened)>"
      ]
     },
     "execution_count": 3,
     "metadata": {},
     "output_type": "execute_result"
    }
   ],
   "source": [
    "from typing import Literal\n",
    "import anndata as ad\n",
    "import scanpy as sc\n",
    "from somacore import AxisQuery\n",
    "from tiledbsoma import Experiment, SOMATileDBContext\n",
    "\n",
    "DEFAULT_CONFIG = {\n",
    "    \"vfs.s3.no_sign_request\": \"true\",\n",
    "    \"vfs.s3.region\": \"us-west-2\"\n",
    "}\n",
    "CENSUS_S3 = \"s3://cellxgene-census-public-us-west-2/cell-census\"\n",
    "\n",
    "species = \"homo_sapiens\"\n",
    "soma_uri = f\"{CENSUS_S3}/{census}/soma\"\n",
    "exp_uri = f\"{soma_uri}/census_data/{species}\"\n",
    "\n",
    "exp = Experiment.open(\n",
    "    exp_uri,\n",
    "    context=SOMATileDBContext(tiledb_config=DEFAULT_CONFIG)\n",
    ")\n",
    "exp"
   ]
  },
  {
   "cell_type": "code",
   "execution_count": 4,
   "id": "de46251e-8831-4d15-a3ae-24eac79ac418",
   "metadata": {
    "editable": true,
    "execution": {
     "iopub.execute_input": "2024-11-14T16:25:42.884183Z",
     "iopub.status.busy": "2024-11-14T16:25:42.883517Z",
     "iopub.status.idle": "2024-11-14T16:25:42.995202Z",
     "shell.execute_reply": "2024-11-14T16:25:42.994754Z"
    },
    "papermill": {
     "duration": 0.1149,
     "end_time": "2024-11-14T16:25:42.996084",
     "exception": false,
     "start_time": "2024-11-14T16:25:42.881184",
     "status": "completed"
    },
    "slideshow": {
     "slide_type": ""
    },
    "tags": []
   },
   "outputs": [
    {
     "name": "stdout",
     "output_type": "stream",
     "text": [
      "CPU times: user 6.91 ms, sys: 7.96 ms, total: 14.9 ms\n",
      "Wall time: 108 ms\n"
     ]
    }
   ],
   "source": [
    "%%time\n",
    "query = exp.axis_query(\n",
    "    measurement_name=meas,\n",
    "    obs_query=AxisQuery(value_filter=obs_filter) if obs_filter else None,\n",
    "    var_query=AxisQuery(value_filter=var_filter) if var_filter else None,\n",
    ")"
   ]
  },
  {
   "cell_type": "code",
   "execution_count": 5,
   "id": "b3c06e17-1b31-4949-ac08-342345ec4068",
   "metadata": {
    "editable": true,
    "execution": {
     "iopub.execute_input": "2024-11-14T16:25:43.000417Z",
     "iopub.status.busy": "2024-11-14T16:25:43.000063Z",
     "iopub.status.idle": "2024-11-14T16:25:43.475880Z",
     "shell.execute_reply": "2024-11-14T16:25:43.475330Z"
    },
    "papermill": {
     "duration": 0.478753,
     "end_time": "2024-11-14T16:25:43.476715",
     "exception": false,
     "start_time": "2024-11-14T16:25:42.997962",
     "status": "completed"
    },
    "slideshow": {
     "slide_type": ""
    },
    "tags": []
   },
   "outputs": [
    {
     "name": "stdout",
     "output_type": "stream",
     "text": [
      "CPU times: user 593 ms, sys: 314 ms, total: 907 ms\n",
      "Wall time: 471 ms\n"
     ]
    },
    {
     "data": {
      "text/plain": [
       "2083054"
      ]
     },
     "execution_count": 5,
     "metadata": {},
     "output_type": "execute_result"
    }
   ],
   "source": [
    "%%time\n",
    "query.n_obs"
   ]
  },
  {
   "cell_type": "markdown",
   "id": "97fa4f9f-bfc2-4382-b985-feccbf625184",
   "metadata": {
    "editable": true,
    "papermill": {
     "duration": 0.00177,
     "end_time": "2024-11-14T16:25:43.480812",
     "exception": false,
     "start_time": "2024-11-14T16:25:43.479042",
     "status": "completed"
    },
    "slideshow": {
     "slide_type": ""
    },
    "tags": []
   },
   "source": [
    "## HVG"
   ]
  },
  {
   "cell_type": "code",
   "execution_count": 6,
   "id": "35fb9a55-c4d5-4ba1-bfbc-30eb579263bd",
   "metadata": {
    "editable": true,
    "execution": {
     "iopub.execute_input": "2024-11-14T16:25:43.485439Z",
     "iopub.status.busy": "2024-11-14T16:25:43.484973Z",
     "iopub.status.idle": "2024-11-14T16:25:43.627947Z",
     "shell.execute_reply": "2024-11-14T16:25:43.627448Z"
    },
    "papermill": {
     "duration": 0.145988,
     "end_time": "2024-11-14T16:25:43.628627",
     "exception": false,
     "start_time": "2024-11-14T16:25:43.482639",
     "status": "completed"
    },
    "slideshow": {
     "slide_type": ""
    },
    "tags": []
   },
   "outputs": [
    {
     "ename": "TypeError",
     "evalue": "ExperimentAxisQuery.to_anndata() got an unexpected keyword argument 'dask_chunk_size'",
     "output_type": "error",
     "traceback": [
      "\u001b[0;31m---------------------------------------------------------------------------\u001b[0m",
      "\u001b[0;31mTypeError\u001b[0m                                 Traceback (most recent call last)",
      "File \u001b[0;32m<timed exec>:1\u001b[0m\n",
      "\u001b[0;31mTypeError\u001b[0m: ExperimentAxisQuery.to_anndata() got an unexpected keyword argument 'dask_chunk_size'"
     ]
    }
   ],
   "source": [
    "%%time\n",
    "add = query.to_anndata(layer, dask_chunk_size=dask_chunk_size if dask_chunk_size else None)\n",
    "add"
   ]
  },
  {
   "cell_type": "code",
   "execution_count": 7,
   "id": "aeb2169a-82e8-45ff-82d6-5d3805458b0d",
   "metadata": {
    "editable": true,
    "execution": {
     "iopub.execute_input": "2024-11-14T16:25:43.633258Z",
     "iopub.status.busy": "2024-11-14T16:25:43.632922Z",
     "iopub.status.idle": "2024-11-14T16:25:43.649661Z",
     "shell.execute_reply": "2024-11-14T16:25:43.649193Z"
    },
    "papermill": {
     "duration": 0.019888,
     "end_time": "2024-11-14T16:25:43.650470",
     "exception": false,
     "start_time": "2024-11-14T16:25:43.630582",
     "status": "completed"
    },
    "slideshow": {
     "slide_type": ""
    },
    "tags": []
   },
   "outputs": [
    {
     "ename": "NameError",
     "evalue": "name 'add' is not defined",
     "output_type": "error",
     "traceback": [
      "\u001b[0;31m---------------------------------------------------------------------------\u001b[0m",
      "\u001b[0;31mNameError\u001b[0m                                 Traceback (most recent call last)",
      "File \u001b[0;32m<timed eval>:1\u001b[0m\n",
      "\u001b[0;31mNameError\u001b[0m: name 'add' is not defined"
     ]
    }
   ],
   "source": [
    "%%time\n",
    "sc.pp.normalize_total(add)"
   ]
  },
  {
   "cell_type": "code",
   "execution_count": 8,
   "id": "2c875f3b-71b4-4393-b1eb-9ea1de2538bb",
   "metadata": {
    "execution": {
     "iopub.execute_input": "2024-11-14T16:25:43.655235Z",
     "iopub.status.busy": "2024-11-14T16:25:43.654815Z",
     "iopub.status.idle": "2024-11-14T16:25:43.662702Z",
     "shell.execute_reply": "2024-11-14T16:25:43.662228Z"
    },
    "papermill": {
     "duration": 0.011072,
     "end_time": "2024-11-14T16:25:43.663454",
     "exception": false,
     "start_time": "2024-11-14T16:25:43.652382",
     "status": "completed"
    },
    "tags": []
   },
   "outputs": [
    {
     "ename": "NameError",
     "evalue": "name 'add' is not defined",
     "output_type": "error",
     "traceback": [
      "\u001b[0;31m---------------------------------------------------------------------------\u001b[0m",
      "\u001b[0;31mNameError\u001b[0m                                 Traceback (most recent call last)",
      "File \u001b[0;32m<timed eval>:1\u001b[0m\n",
      "\u001b[0;31mNameError\u001b[0m: name 'add' is not defined"
     ]
    }
   ],
   "source": [
    "%%time\n",
    "sc.pp.log1p(add)"
   ]
  },
  {
   "cell_type": "markdown",
   "id": "4517cd4a",
   "metadata": {
    "tags": [
     "papermill-error-cell-tag"
    ]
   },
   "source": [
    "<span id=\"papermill-error-cell\" style=\"color:red; font-family:Helvetica Neue, Helvetica, Arial, sans-serif; font-size:2em;\">Execution using papermill encountered an exception here and stopped:</span>"
   ]
  },
  {
   "cell_type": "code",
   "execution_count": 9,
   "id": "c050465e-05ac-4599-a17a-d77825982f77",
   "metadata": {
    "execution": {
     "iopub.execute_input": "2024-11-14T16:25:43.668186Z",
     "iopub.status.busy": "2024-11-14T16:25:43.667849Z",
     "iopub.status.idle": "2024-11-14T16:25:43.675834Z",
     "shell.execute_reply": "2024-11-14T16:25:43.675345Z"
    },
    "papermill": {
     "duration": 0.011229,
     "end_time": "2024-11-14T16:25:43.676668",
     "exception": false,
     "start_time": "2024-11-14T16:25:43.665439",
     "status": "completed"
    },
    "tags": []
   },
   "outputs": [
    {
     "ename": "NameError",
     "evalue": "name 'add' is not defined",
     "output_type": "error",
     "traceback": [
      "\u001b[0;31m---------------------------------------------------------------------------\u001b[0m",
      "\u001b[0;31mNameError\u001b[0m                                 Traceback (most recent call last)",
      "File \u001b[0;32m<timed exec>:1\u001b[0m\n",
      "\u001b[0;31mNameError\u001b[0m: name 'add' is not defined"
     ]
    }
   ],
   "source": [
    "%%time\n",
    "hvg = sc.pp.highly_variable_genes(add, inplace=False, subset=True)\n",
    "hvg"
   ]
  },
  {
   "cell_type": "markdown",
   "id": "658f9db8-90eb-4327-8f10-6ae79c7f8f15",
   "metadata": {
    "editable": true,
    "papermill": {
     "duration": 0.001934,
     "end_time": "2024-11-14T16:25:43.680767",
     "exception": false,
     "start_time": "2024-11-14T16:25:43.678833",
     "status": "completed"
    },
    "slideshow": {
     "slide_type": ""
    },
    "tags": []
   },
   "source": [
    "---\n",
    "Census `tissue_general` counts, for reference:\n",
    "```python\n",
    "exp_obs = exp.obs.read().concat().to_pandas()\n",
    "exp_obs.tissue_general.value_counts()\n",
    "```\n",
    "```\n",
    "tissue_general\n",
    "brain                       26281059\n",
    "blood                       10835244\n",
    "lung                         6231233\n",
    "breast                       5555979\n",
    "eye                          4190842\n",
    "heart                        3629952\n",
    "kidney                       2083054\n",
    "liver                        1815408\n",
    "small intestine              1237182\n",
    "skin of body                 1045024\n",
    "endocrine gland               979667\n",
    "respiratory system            944355\n",
    "bone marrow                   813373\n",
    "spleen                        751041\n",
    "lymph node                    717899\n",
    "colon                         714413\n",
    "placenta                      638786\n",
    "reproductive system           570488\n",
    "adrenal gland                 560114\n",
    "nose                          470445\n",
    "adipose tissue                468603\n",
    "stomach                       446348\n",
    "prostate gland                348664\n",
    "fallopian tube                250178\n",
    "pancreas                      250161\n",
    "esophagus                     215951\n",
    "digestive system              211912\n",
    "musculature                   189452\n",
    "large intestine               180996\n",
    "pleural fluid                 179134\n",
    "yolk sac                      169725\n",
    "embryo                        165937\n",
    "uterus                        148198\n",
    "mucosa                        131978\n",
    "spinal cord                   117463\n",
    "exocrine gland                115722\n",
    "intestine                     104490\n",
    "immune system                  89046\n",
    "bladder organ                  82797\n",
    "vasculature                    63667\n",
    "ovary                          53751\n",
    "lamina propria                 45230\n",
    "tongue                         45060\n",
    "central nervous system         31780\n",
    "esophagogastric junction       29105\n",
    "axilla                         19792\n",
    "pleura                         19695\n",
    "skeletal system                14680\n",
    "saliva                         14502\n",
    "omentum                        14003\n",
    "testis                         13211\n",
    "tendon of semitendinosus       10533\n",
    "gallbladder                     9769\n",
    "scalp                           3029\n",
    "ureter                          2390\n",
    "Name: count, dtype: int64\n",
    "```"
   ]
  }
 ],
 "metadata": {
  "kernelspec": {
   "display_name": "Python 3 (ipykernel)",
   "language": "python",
   "name": "python3"
  },
  "language_info": {
   "codemirror_mode": {
    "name": "ipython",
    "version": 3
   },
   "file_extension": ".py",
   "mimetype": "text/x-python",
   "name": "python",
   "nbconvert_exporter": "python",
   "pygments_lexer": "ipython3",
   "version": "3.10.12"
  },
  "papermill": {
   "default_parameters": {},
   "duration": 3.291,
   "end_time": "2024-11-14T16:25:44.098007",
   "environment_variables": {},
   "exception": null,
   "input_path": "hvg.ipynb",
   "output_path": "hvg-kidney.ipynb",
   "parameters": {
    "obs_filter": "tissue_general == \"kidney\""
   },
   "start_time": "2024-11-14T16:25:40.807007",
   "version": "2.6.0"
  }
 },
 "nbformat": 4,
 "nbformat_minor": 5
}