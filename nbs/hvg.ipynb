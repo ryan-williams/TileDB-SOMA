{
 "cells": [
  {
   "cell_type": "code",
   "execution_count": null,
   "id": "27ef4e23-2197-4889-93ed-42e551ec4d87",
   "metadata": {
    "editable": true,
    "slideshow": {
     "slide_type": ""
    },
    "tags": [
     "parameters"
    ]
   },
   "outputs": [],
   "source": [
    "meas = \"RNA\"\n",
    "layer = \"raw\"\n",
    "census = \"2024-07-01\"\n",
    "tissue_general = \"tongue\"\n",
    "var_filter = None\n",
    "dask_chunk_size = 0  # Non-Dask mode, by default"
   ]
  },
  {
   "cell_type": "code",
   "execution_count": null,
   "id": "c798eb53-1740-44d5-8035-ee146e09424e",
   "metadata": {
    "editable": true,
    "slideshow": {
     "slide_type": ""
    },
    "tags": []
   },
   "outputs": [],
   "source": [
    "from typing import Literal\n",
    "import anndata as ad\n",
    "import scanpy as sc\n",
    "from somacore import AxisQuery\n",
    "from tiledbsoma import Experiment, SOMATileDBContext\n",
    "\n",
    "DEFAULT_CONFIG = {\n",
    "    \"vfs.s3.no_sign_request\": \"true\",\n",
    "    \"vfs.s3.region\": \"us-west-2\"\n",
    "}\n",
    "CENSUS_S3 = \"s3://cellxgene-census-public-us-west-2/cell-census\"\n",
    "\n",
    "species = \"homo_sapiens\"\n",
    "soma_uri = f\"{CENSUS_S3}/{census}/soma\"\n",
    "exp_uri = f\"{soma_uri}/census_data/{species}\"\n",
    "\n",
    "exp = Experiment.open(\n",
    "    exp_uri,\n",
    "    context=SOMATileDBContext(tiledb_config=DEFAULT_CONFIG)\n",
    ")\n",
    "exp"
   ]
  },
  {
   "cell_type": "code",
   "execution_count": null,
   "id": "de46251e-8831-4d15-a3ae-24eac79ac418",
   "metadata": {
    "editable": true,
    "slideshow": {
     "slide_type": ""
    },
    "tags": []
   },
   "outputs": [],
   "source": [
    "%%time\n",
    "obs_filter = f'tissue_general == \"{tissue_general}\"' if tissue_general else None\n",
    "query = exp.axis_query(\n",
    "    measurement_name=meas,\n",
    "    obs_query=AxisQuery(value_filter=obs_filter) if obs_filter else None,\n",
    "    var_query=AxisQuery(value_filter=var_filter) if var_filter else None,\n",
    ")"
   ]
  },
  {
   "cell_type": "code",
   "execution_count": null,
   "id": "b3c06e17-1b31-4949-ac08-342345ec4068",
   "metadata": {
    "editable": true,
    "slideshow": {
     "slide_type": ""
    },
    "tags": []
   },
   "outputs": [],
   "source": [
    "%%time\n",
    "query.n_obs"
   ]
  },
  {
   "cell_type": "code",
   "execution_count": null,
   "id": "9dca37c5-4931-43ec-a1ff-9a72fa3283d4",
   "metadata": {},
   "outputs": [],
   "source": [
    "from dask.distributed import Client, LocalCluster\n",
    "if dask_chunk_size:\n",
    "    cluster = LocalCluster()\n",
    "    client = Client(cluster)\n",
    "else:\n",
    "    dask_chunk_size = None\n",
    "    client = None\n",
    "client"
   ]
  },
  {
   "cell_type": "markdown",
   "id": "97fa4f9f-bfc2-4382-b985-feccbf625184",
   "metadata": {
    "editable": true,
    "slideshow": {
     "slide_type": ""
    },
    "tags": []
   },
   "source": [
    "## HVG"
   ]
  },
  {
   "cell_type": "code",
   "execution_count": null,
   "id": "35fb9a55-c4d5-4ba1-bfbc-30eb579263bd",
   "metadata": {
    "editable": true,
    "slideshow": {
     "slide_type": ""
    },
    "tags": []
   },
   "outputs": [],
   "source": [
    "%%time\n",
    "add = query.to_anndata(layer, dask_chunk_size=dask_chunk_size)\n",
    "add"
   ]
  },
  {
   "cell_type": "code",
   "execution_count": null,
   "id": "aeb2169a-82e8-45ff-82d6-5d3805458b0d",
   "metadata": {
    "editable": true,
    "slideshow": {
     "slide_type": ""
    },
    "tags": []
   },
   "outputs": [],
   "source": [
    "%%time\n",
    "sc.pp.normalize_total(add)"
   ]
  },
  {
   "cell_type": "code",
   "execution_count": null,
   "id": "2c875f3b-71b4-4393-b1eb-9ea1de2538bb",
   "metadata": {},
   "outputs": [],
   "source": [
    "%%time\n",
    "sc.pp.log1p(add)"
   ]
  },
  {
   "cell_type": "code",
   "execution_count": null,
   "id": "c050465e-05ac-4599-a17a-d77825982f77",
   "metadata": {},
   "outputs": [],
   "source": [
    "%%time\n",
    "hvg = sc.pp.highly_variable_genes(add, inplace=False, subset=True)\n",
    "hvg"
   ]
  },
  {
   "cell_type": "markdown",
   "id": "658f9db8-90eb-4327-8f10-6ae79c7f8f15",
   "metadata": {
    "editable": true,
    "slideshow": {
     "slide_type": ""
    },
    "tags": []
   },
   "source": [
    "---\n",
    "Census `tissue_general` counts, for reference:\n",
    "```python\n",
    "exp_obs = exp.obs.read().concat().to_pandas()\n",
    "exp_obs.tissue_general.value_counts()\n",
    "```\n",
    "```\n",
    "tissue_general\n",
    "brain                       26281059\n",
    "blood                       10835244\n",
    "lung                         6231233\n",
    "breast                       5555979\n",
    "eye                          4190842\n",
    "heart                        3629952\n",
    "kidney                       2083054\n",
    "liver                        1815408\n",
    "small intestine              1237182\n",
    "skin of body                 1045024\n",
    "endocrine gland               979667\n",
    "respiratory system            944355\n",
    "bone marrow                   813373\n",
    "spleen                        751041\n",
    "lymph node                    717899\n",
    "colon                         714413\n",
    "placenta                      638786\n",
    "reproductive system           570488\n",
    "adrenal gland                 560114\n",
    "nose                          470445\n",
    "adipose tissue                468603\n",
    "stomach                       446348\n",
    "prostate gland                348664\n",
    "fallopian tube                250178\n",
    "pancreas                      250161\n",
    "esophagus                     215951\n",
    "digestive system              211912\n",
    "musculature                   189452\n",
    "large intestine               180996\n",
    "pleural fluid                 179134\n",
    "yolk sac                      169725\n",
    "embryo                        165937\n",
    "uterus                        148198\n",
    "mucosa                        131978\n",
    "spinal cord                   117463\n",
    "exocrine gland                115722\n",
    "intestine                     104490\n",
    "immune system                  89046\n",
    "bladder organ                  82797\n",
    "vasculature                    63667\n",
    "ovary                          53751\n",
    "lamina propria                 45230\n",
    "tongue                         45060\n",
    "central nervous system         31780\n",
    "esophagogastric junction       29105\n",
    "axilla                         19792\n",
    "pleura                         19695\n",
    "skeletal system                14680\n",
    "saliva                         14502\n",
    "omentum                        14003\n",
    "testis                         13211\n",
    "tendon of semitendinosus       10533\n",
    "gallbladder                     9769\n",
    "scalp                           3029\n",
    "ureter                          2390\n",
    "Name: count, dtype: int64\n",
    "```"
   ]
  }
 ],
 "metadata": {
  "kernelspec": {
   "display_name": "Python 3 (ipykernel)",
   "language": "python",
   "name": "python3"
  },
  "language_info": {
   "codemirror_mode": {
    "name": "ipython",
    "version": 3
   },
   "file_extension": ".py",
   "mimetype": "text/x-python",
   "name": "python",
   "nbconvert_exporter": "python",
   "pygments_lexer": "ipython3",
   "version": "3.12.6"
  }
 },
 "nbformat": 4,
 "nbformat_minor": 5
}
